{
  "cells": [
    {
      "cell_type": "markdown",
      "metadata": {
        "id": "view-in-github",
        "colab_type": "text"
      },
      "source": [
        "<a href=\"https://colab.research.google.com/github/Ankitha016/PROJECT_5thsem/blob/main/Numbers_CNN.ipynb\" target=\"_parent\"><img src=\"https://colab.research.google.com/assets/colab-badge.svg\" alt=\"Open In Colab\"/></a>"
      ]
    },
    {
      "cell_type": "code",
      "execution_count": null,
      "metadata": {
        "id": "YustcFWY9ewF",
        "outputId": "a18653cb-e7cf-42cc-f722-9857c0fe9b27"
      },
      "outputs": [
        {
          "name": "stdout",
          "output_type": "stream",
          "text": [
            "Collecting opencv-python\n",
            "  Downloading opencv_python-4.5.2.52-cp38-cp38-win_amd64.whl (34.7 MB)\n",
            "Requirement already satisfied: numpy>=1.17.3 in c:\\users\\akanksha\\anaconda3\\envs\\tensorflow\\lib\\site-packages (from opencv-python) (1.20.1)\n",
            "Installing collected packages: opencv-python\n",
            "Successfully installed opencv-python-4.5.2.52\n"
          ]
        }
      ],
      "source": [
        "!pip install opencv-python"
      ]
    },
    {
      "cell_type": "code",
      "execution_count": null,
      "metadata": {
        "id": "r77mfdK19ewL",
        "outputId": "bf0b5878-aca7-4dea-996c-6fc5a4e30189"
      },
      "outputs": [
        {
          "name": "stdout",
          "output_type": "stream",
          "text": [
            "Collecting tensorflow-plot\n",
            "  Downloading tensorflow-plot-0.3.2.tar.gz (23 kB)\n",
            "Requirement already satisfied: six in c:\\users\\akanksha\\anaconda3\\envs\\tensorflow\\lib\\site-packages (from tensorflow-plot) (1.15.0)\n",
            "Requirement already satisfied: numpy in c:\\users\\akanksha\\anaconda3\\envs\\tensorflow\\lib\\site-packages (from tensorflow-plot) (1.20.1)\n",
            "Collecting biwrap==0.1.6\n",
            "  Downloading biwrap-0.1.6.tar.gz (3.9 kB)\n",
            "Collecting matplotlib>=2.0.0\n",
            "  Downloading matplotlib-3.4.2-cp38-cp38-win_amd64.whl (7.1 MB)\n",
            "Requirement already satisfied: pyparsing>=2.2.1 in c:\\users\\akanksha\\anaconda3\\envs\\tensorflow\\lib\\site-packages (from matplotlib>=2.0.0->tensorflow-plot) (2.4.7)\n",
            "Collecting cycler>=0.10\n",
            "  Downloading cycler-0.10.0-py2.py3-none-any.whl (6.5 kB)\n",
            "Collecting pillow>=6.2.0\n",
            "  Using cached Pillow-8.2.0-cp38-cp38-win_amd64.whl (2.2 MB)\n",
            "Requirement already satisfied: python-dateutil>=2.7 in c:\\users\\akanksha\\anaconda3\\envs\\tensorflow\\lib\\site-packages (from matplotlib>=2.0.0->tensorflow-plot) (2.8.1)\n",
            "Collecting kiwisolver>=1.0.1\n",
            "  Downloading kiwisolver-1.3.1-cp38-cp38-win_amd64.whl (51 kB)\n",
            "Building wheels for collected packages: tensorflow-plot, biwrap\n",
            "  Building wheel for tensorflow-plot (setup.py): started\n",
            "  Building wheel for tensorflow-plot (setup.py): finished with status 'done'\n",
            "  Created wheel for tensorflow-plot: filename=tensorflow_plot-0.3.2-py3-none-any.whl size=25944 sha256=c5b268513d5cece7c8070a43773cd89b9003a8112ed061e735ea46d60b1baf84\n",
            "  Stored in directory: c:\\users\\akanksha\\appdata\\local\\pip\\cache\\wheels\\aa\\ea\\38\\edf8c9f0afd64997e506bfadd5f516e158f026457d288a81d1\n",
            "  Building wheel for biwrap (setup.py): started\n",
            "  Building wheel for biwrap (setup.py): finished with status 'done'\n",
            "  Created wheel for biwrap: filename=biwrap-0.1.6-py3-none-any.whl size=3383 sha256=11828a25c6da6bb2064a61aede5eb9cc78a80f39781dc9239aaf770a1dac42b9\n",
            "  Stored in directory: c:\\users\\akanksha\\appdata\\local\\pip\\cache\\wheels\\3b\\a0\\22\\ae589e517233c1acf3b2758a6a2a90581ee880369307084693\n",
            "Successfully built tensorflow-plot biwrap\n",
            "Installing collected packages: pillow, kiwisolver, cycler, matplotlib, biwrap, tensorflow-plot\n",
            "Successfully installed biwrap-0.1.6 cycler-0.10.0 kiwisolver-1.3.1 matplotlib-3.4.2 pillow-8.2.0 tensorflow-plot-0.3.2\n"
          ]
        }
      ],
      "source": [
        "!pip install tensorflow-plot"
      ]
    },
    {
      "cell_type": "code",
      "execution_count": null,
      "metadata": {
        "id": "47LxotxEhgyz",
        "scrolled": true
      },
      "outputs": [],
      "source": [
        "import numpy as np\n",
        "import tensorflow as tf\n",
        "import cv2\n",
        "import os\n",
        "from glob import glob\n",
        "import cv2\n",
        "import matplotlib.pyplot as plt"
      ]
    },
    {
      "cell_type": "code",
      "execution_count": null,
      "metadata": {
        "id": "wIDwqeBniWIk"
      },
      "outputs": [],
      "source": [
        "from tensorflow.keras.layers import Input, Conv2D, MaxPool2D, Dense, Dropout, Flatten\n",
        "from tensorflow.keras.models import Model\n",
        "from tensorflow.keras.preprocessing.image import ImageDataGenerator"
      ]
    },
    {
      "cell_type": "code",
      "execution_count": null,
      "metadata": {
        "colab": {
          "base_uri": "https://localhost:8080/",
          "height": 34
        },
        "id": "S6c7F4Pfihdh",
        "outputId": "8cd7e716-8bc1-46db-e5d3-063aa3f1a480"
      },
      "outputs": [
        {
          "name": "stdout",
          "output_type": "stream",
          "text": [
            "47827\n"
          ]
        }
      ],
      "source": [
        "folder_path = \"C:\\\\Users\\\\Akanksha\\\\Desktop\\\\Project Work - 4\\\\Handwritten-EqSolver-master\\\\data\\\\extracted_images\"\n",
        "files = glob(folder_path + '/*/*.jpg')\n",
        "print(len(files))"
      ]
    },
    {
      "cell_type": "code",
      "execution_count": null,
      "metadata": {
        "colab": {
          "base_uri": "https://localhost:8080/",
          "height": 62
        },
        "id": "lR9NAhRAjevy",
        "outputId": "3c99ee3f-ae1c-4149-84a5-ad0752dcd872"
      },
      "outputs": [
        {
          "data": {
            "image/png": "[encoded data removed]",
            "text/plain": [
              "<Figure size 432x288 with 1 Axes>"
            ]
          },
          "metadata": {
            "needs_background": "light"
          },
          "output_type": "display_data"
        }
      ],
      "source": [
        "from matplotlib import pyplot as plt\n",
        "# randomly see any image\n",
        "img = cv2.imread(files[4001])\n",
        "plt.imshow(img)\n",
        "plt.show()\n",
        "\n"
      ]
    },
    {
      "cell_type": "code",
      "execution_count": null,
      "metadata": {
        "id": "VqTDJkcmj1KU"
      },
      "outputs": [],
      "source": [
        "# build the CNN architecture for the model\n",
        "i = Input(shape=(32,32,1))\n",
        "x = Conv2D(32, (3,3), padding='same', activation='relu')(i)\n",
        "x = MaxPool2D((2,2))(x)\n",
        "x = Conv2D(32, (3,3), padding='same', activation='relu')(x)\n",
        "x = MaxPool2D((2,2))(x)\n",
        "x = Dropout(0.2)(x)\n",
        "x = Flatten()(x)\n",
        "x = Dense(128, activation='relu')(x)\n",
        "x = Dense(256, activation='relu')(x)\n",
        "x = Dense(14, activation='softmax')(x)\n",
        "\n",
        "model = Model(i,x)"
      ]
    },
    {
      "cell_type": "code",
      "execution_count": null,
      "metadata": {
        "id": "UYgr5M_9lJar"
      },
      "outputs": [],
      "source": [
        "gen = ImageDataGenerator(rescale=1/255.0)"
      ]
    },
    {
      "cell_type": "code",
      "execution_count": null,
      "metadata": {
        "colab": {
          "base_uri": "https://localhost:8080/",
          "height": 34
        },
        "id": "6bP2Go49lqb6",
        "outputId": "eba867e8-56c0-490e-d34d-43940598c7e3"
      },
      "outputs": [
        {
          "name": "stdout",
          "output_type": "stream",
          "text": [
            "Found 47827 images belonging to 14 classes.\n"
          ]
        }
      ],
      "source": [
        "\n",
        "train_gen = gen.flow_from_directory(folder_path,\n",
        "                                    target_size = (32,32),\n",
        "                                    color_mode = 'grayscale',\n",
        "                                    class_mode = 'categorical',\n",
        "                                    batch_size= 64,\n",
        "                                    shuffle=True)"
      ]
    },
    {
      "cell_type": "code",
      "execution_count": null,
      "metadata": {
        "id": "H0uw82Wr9ewY",
        "outputId": "8841c5ae-cb1c-40e2-e3ec-5b7eec2c23c7"
      },
      "outputs": [
        {
          "name": "stdout",
          "output_type": "stream",
          "text": [
            "Requirement already satisfied: pillow in c:\\users\\akanksha\\anaconda3\\envs\\tensorflow\\lib\\site-packages (8.2.0)\n"
          ]
        }
      ],
      "source": [
        "!pip install pillow"
      ]
    },
    {
      "cell_type": "code",
      "execution_count": null,
      "metadata": {
        "colab": {
          "base_uri": "https://localhost:8080/",
          "height": 428
        },
        "id": "M3FkAHF9mD78",
        "outputId": "f5d32680-5165-4f41-9eea-85ea8c428774"
      },
      "outputs": [
        {
          "name": "stderr",
          "output_type": "stream",
          "text": [
            "C:\\Users\\Akanksha\\AppData\\Roaming\\Python\\Python38\\site-packages\\tensorflow\\python\\keras\\engine\\training.py:1844: UserWarning: `Model.fit_generator` is deprecated and will be removed in a future version. Please use `Model.fit`, which supports generators.\n",
            "  warnings.warn('`Model.fit_generator` is deprecated and '\n"
          ]
        },
        {
          "name": "stdout",
          "output_type": "stream",
          "text": [
            "Epoch 1/10\n",
            "747/747 [==============================] - 2494s 3s/step - loss: 1.0365 - accuracy: 0.6681\n",
            "Epoch 2/10\n",
            "747/747 [==============================] - 954s 1s/step - loss: 0.1424 - accuracy: 0.9578\n",
            "Epoch 3/10\n",
            "747/747 [==============================] - 59s 79ms/step - loss: 0.0850 - accuracy: 0.9742\n",
            "Epoch 4/10\n",
            "747/747 [==============================] - 186s 248ms/step - loss: 0.0649 - accuracy: 0.9804\n",
            "Epoch 5/10\n",
            "747/747 [==============================] - 77s 103ms/step - loss: 0.0485 - accuracy: 0.9860\n",
            "Epoch 6/10\n",
            "747/747 [==============================] - 83s 111ms/step - loss: 0.0394 - accuracy: 0.9881\n",
            "Epoch 7/10\n",
            "747/747 [==============================] - 78s 105ms/step - loss: 0.0358 - accuracy: 0.9882\n",
            "Epoch 8/10\n",
            "747/747 [==============================] - 66s 88ms/step - loss: 0.0310 - accuracy: 0.9904\n",
            "Epoch 9/10\n",
            "747/747 [==============================] - 66s 88ms/step - loss: 0.0308 - accuracy: 0.9896\n",
            "Epoch 10/10\n",
            "747/747 [==============================] - 67s 90ms/step - loss: 0.0258 - accuracy: 0.9921\n"
          ]
        }
      ],
      "source": [
        "#model.compile(optimizer='adam', loss='categorical_crossentropy', metrics=['accuracy'])\n",
        "import keras\n",
        "\n",
        "\n",
        "model.compile(optimizer='adam', loss='categorical_crossentropy', metrics=['accuracy'])\n",
        "\n",
        "r = model.fit_generator(train_gen,\n",
        "                        steps_per_epoch = len(train_gen.filenames)//64,\n",
        "                        epochs = 10,\n",
        "                        )"
      ]
    },
    {
      "cell_type": "code",
      "execution_count": null,
      "metadata": {
        "id": "esGU_C8gnbTL"
      },
      "outputs": [],
      "source": [
        "model.save(\"C:\\\\Users\\\\owner\\\\Desktop\\\\Handwritten-EqSolver-master\\\\num_detect99.h5\")"
      ]
    },
    {
      "cell_type": "code",
      "execution_count": null,
      "metadata": {
        "colab": {
          "base_uri": "https://localhost:8080/",
          "height": 255
        },
        "id": "cmXTrV73oNQj",
        "outputId": "af86487a-b4d1-46f6-c158-2b3f730df97c"
      },
      "outputs": [
        {
          "data": {
            "text/plain": [
              "{'+': 0,\n",
              " '-': 1,\n",
              " '0': 2,\n",
              " '1': 3,\n",
              " '2': 4,\n",
              " '3': 5,\n",
              " '4': 6,\n",
              " '5': 7,\n",
              " '6': 8,\n",
              " '7': 9,\n",
              " '8': 10,\n",
              " '9': 11,\n",
              " 'forward_slash': 12,\n",
              " 'times': 13}"
            ]
          },
          "execution_count": 11,
          "metadata": {},
          "output_type": "execute_result"
        }
      ],
      "source": [
        "train_gen.class_indices"
      ]
    },
    {
      "cell_type": "code",
      "execution_count": null,
      "metadata": {
        "id": "xN1LTU_UoT--"
      },
      "outputs": [],
      "source": []
    }
  ],
  "metadata": {
    "accelerator": "GPU",
    "colab": {
      "provenance": [],
      "include_colab_link": true
    },
    "kernelspec": {
      "display_name": "Python 3",
      "language": "python",
      "name": "python3"
    },
    "language_info": {
      "codemirror_mode": {
        "name": "ipython",
        "version": 3
      },
      "file_extension": ".py",
      "mimetype": "text/x-python",
      "name": "python",
      "nbconvert_exporter": "python",
      "pygments_lexer": "ipython3",
      "version": "3.8.3"
    }
  },
  "nbformat": 4,
  "nbformat_minor": 0
}